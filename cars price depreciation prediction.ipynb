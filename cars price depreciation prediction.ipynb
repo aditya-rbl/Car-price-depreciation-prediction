{
 "cells": [
  {
   "cell_type": "code",
   "execution_count": 30,
   "metadata": {},
   "outputs": [],
   "source": [
    "# Importing all the required libraries \n",
    "\n",
    "import pandas as pd\n",
    "import numpy as np\n",
    "import matplotlib.pyplot as plt\n",
    "import seaborn as sns\n",
    "import ppscore as pps\n",
    "from sklearn.preprocessing import LabelEncoder\n",
    "from sklearn.model_selection import train_test_split\n",
    "from sklearn.ensemble import RandomForestRegressor"
   ]
  },
  {
   "cell_type": "markdown",
   "metadata": {},
   "source": [
    "# Loading the dataset "
   ]
  },
  {
   "cell_type": "code",
   "execution_count": 2,
   "metadata": {},
   "outputs": [],
   "source": [
    "cars=pd.read_csv('cars.csv')"
   ]
  },
  {
   "cell_type": "code",
   "execution_count": 3,
   "metadata": {},
   "outputs": [
    {
     "data": {
      "text/html": [
       "<div>\n",
       "<style scoped>\n",
       "    .dataframe tbody tr th:only-of-type {\n",
       "        vertical-align: middle;\n",
       "    }\n",
       "\n",
       "    .dataframe tbody tr th {\n",
       "        vertical-align: top;\n",
       "    }\n",
       "\n",
       "    .dataframe thead th {\n",
       "        text-align: right;\n",
       "    }\n",
       "</style>\n",
       "<table border=\"1\" class=\"dataframe\">\n",
       "  <thead>\n",
       "    <tr style=\"text-align: right;\">\n",
       "      <th></th>\n",
       "      <th>MMV</th>\n",
       "      <th>Make</th>\n",
       "      <th>Model</th>\n",
       "      <th>Variant</th>\n",
       "      <th>Type</th>\n",
       "      <th>Fuel Type</th>\n",
       "      <th>Age</th>\n",
       "      <th>Transmission</th>\n",
       "      <th>Color</th>\n",
       "      <th>Kms</th>\n",
       "      <th>No of Owner</th>\n",
       "      <th>Heath score</th>\n",
       "      <th>price score</th>\n",
       "      <th>on road price</th>\n",
       "      <th>Current Price</th>\n",
       "      <th>Dep</th>\n",
       "    </tr>\n",
       "  </thead>\n",
       "  <tbody>\n",
       "    <tr>\n",
       "      <th>0</th>\n",
       "      <td>HyundaiI10Sportz 1.2</td>\n",
       "      <td>Hyundai</td>\n",
       "      <td>I10</td>\n",
       "      <td>Sportz 1.2</td>\n",
       "      <td>Hatchback</td>\n",
       "      <td>Petrol</td>\n",
       "      <td>3</td>\n",
       "      <td>Manual</td>\n",
       "      <td>White</td>\n",
       "      <td>12,000</td>\n",
       "      <td>1</td>\n",
       "      <td>8.5</td>\n",
       "      <td>8.8</td>\n",
       "      <td>537850</td>\n",
       "      <td>338352</td>\n",
       "      <td>37.1</td>\n",
       "    </tr>\n",
       "    <tr>\n",
       "      <th>1</th>\n",
       "      <td>HyundaiI20Magna (O) 1.2</td>\n",
       "      <td>Hyundai</td>\n",
       "      <td>I20</td>\n",
       "      <td>Magna (O) 1.2</td>\n",
       "      <td>Hatchback</td>\n",
       "      <td>Petrol</td>\n",
       "      <td>9</td>\n",
       "      <td>Manual</td>\n",
       "      <td>Beige</td>\n",
       "      <td>68,000</td>\n",
       "      <td>1</td>\n",
       "      <td>5.0</td>\n",
       "      <td>7.3</td>\n",
       "      <td>613863</td>\n",
       "      <td>189200</td>\n",
       "      <td>69.2</td>\n",
       "    </tr>\n",
       "    <tr>\n",
       "      <th>2</th>\n",
       "      <td>HyundaiI20Sportz 1.2</td>\n",
       "      <td>Hyundai</td>\n",
       "      <td>I20</td>\n",
       "      <td>Sportz 1.2</td>\n",
       "      <td>Hatchback</td>\n",
       "      <td>Petrol</td>\n",
       "      <td>8</td>\n",
       "      <td>Manual</td>\n",
       "      <td>White</td>\n",
       "      <td>31,143</td>\n",
       "      <td>1</td>\n",
       "      <td>6.2</td>\n",
       "      <td>4.6</td>\n",
       "      <td>678359</td>\n",
       "      <td>347568</td>\n",
       "      <td>48.8</td>\n",
       "    </tr>\n",
       "    <tr>\n",
       "      <th>3</th>\n",
       "      <td>HyundaiNeo Fluidic Elantra1.6SxAtCrdi</td>\n",
       "      <td>Hyundai</td>\n",
       "      <td>Neo Fluidic Elantra</td>\n",
       "      <td>1.6SxAtCrdi</td>\n",
       "      <td>Sedan</td>\n",
       "      <td>Diesel</td>\n",
       "      <td>2</td>\n",
       "      <td>Automatic</td>\n",
       "      <td>Silver</td>\n",
       "      <td>6,000</td>\n",
       "      <td>1</td>\n",
       "      <td>8.5</td>\n",
       "      <td>7.9</td>\n",
       "      <td>2228480</td>\n",
       "      <td>1629250</td>\n",
       "      <td>26.9</td>\n",
       "    </tr>\n",
       "    <tr>\n",
       "      <th>4</th>\n",
       "      <td>HyundaiSantro XingXo</td>\n",
       "      <td>Hyundai</td>\n",
       "      <td>Santro Xing</td>\n",
       "      <td>Xo</td>\n",
       "      <td>Hatchback</td>\n",
       "      <td>Petrol</td>\n",
       "      <td>11</td>\n",
       "      <td>Manual</td>\n",
       "      <td>Golden</td>\n",
       "      <td>1,00,000</td>\n",
       "      <td>2</td>\n",
       "      <td>4.3</td>\n",
       "      <td>9.9</td>\n",
       "      <td>453719</td>\n",
       "      <td>86240</td>\n",
       "      <td>81.0</td>\n",
       "    </tr>\n",
       "  </tbody>\n",
       "</table>\n",
       "</div>"
      ],
      "text/plain": [
       "                                     MMV     Make                Model  \\\n",
       "0                   HyundaiI10Sportz 1.2  Hyundai                  I10   \n",
       "1                HyundaiI20Magna (O) 1.2  Hyundai                  I20   \n",
       "2                   HyundaiI20Sportz 1.2  Hyundai                  I20   \n",
       "3  HyundaiNeo Fluidic Elantra1.6SxAtCrdi  Hyundai  Neo Fluidic Elantra   \n",
       "4                   HyundaiSantro XingXo  Hyundai          Santro Xing   \n",
       "\n",
       "         Variant       Type Fuel Type  Age Transmission   Color       Kms  \\\n",
       "0     Sportz 1.2  Hatchback    Petrol    3       Manual   White    12,000   \n",
       "1  Magna (O) 1.2  Hatchback    Petrol    9       Manual   Beige    68,000   \n",
       "2     Sportz 1.2  Hatchback    Petrol    8       Manual   White    31,143   \n",
       "3    1.6SxAtCrdi      Sedan    Diesel    2    Automatic  Silver     6,000   \n",
       "4             Xo  Hatchback    Petrol   11       Manual  Golden  1,00,000   \n",
       "\n",
       "   No of Owner  Heath score  price score  on road price  Current Price   Dep  \n",
       "0            1          8.5          8.8         537850         338352  37.1  \n",
       "1            1          5.0          7.3         613863         189200  69.2  \n",
       "2            1          6.2          4.6         678359         347568  48.8  \n",
       "3            1          8.5          7.9        2228480        1629250  26.9  \n",
       "4            2          4.3          9.9         453719          86240  81.0  "
      ]
     },
     "execution_count": 3,
     "metadata": {},
     "output_type": "execute_result"
    }
   ],
   "source": [
    "cars.head()"
   ]
  },
  {
   "cell_type": "code",
   "execution_count": 4,
   "metadata": {},
   "outputs": [
    {
     "data": {
      "text/plain": [
       "['Dep',\n",
       " 'Age',\n",
       " 'MMV',\n",
       " 'on road price',\n",
       " 'Model',\n",
       " 'Variant',\n",
       " 'Current Price',\n",
       " 'price score',\n",
       " 'Kms',\n",
       " 'Type',\n",
       " 'No of Owner',\n",
       " 'Heath score',\n",
       " 'Fuel Type',\n",
       " 'Make',\n",
       " 'Color',\n",
       " 'Transmission']"
      ]
     },
     "execution_count": 4,
     "metadata": {},
     "output_type": "execute_result"
    }
   ],
   "source": [
    "# preparing the column in decending order according to predictive power score \n",
    "\n",
    "ppsscores = dict(zip(cars.columns,list(map(lambda x : pps.score(cars, x, \"Dep\")['ppscore'],cars.columns))))\n",
    "sorted(ppsscores,key = ppsscores.get,reverse=True)"
   ]
  },
  {
   "cell_type": "code",
   "execution_count": 11,
   "metadata": {},
   "outputs": [
    {
     "data": {
      "text/plain": [
       "<BarContainer object of 16 artists>"
      ]
     },
     "execution_count": 11,
     "metadata": {},
     "output_type": "execute_result"
    },
    {
     "data": {
      "image/png": "[encoded data removed]",
      "text/plain": [
       "<Figure size 2160x576 with 1 Axes>"
      ]
     },
     "metadata": {
      "needs_background": "light"
     },
     "output_type": "display_data"
    }
   ],
   "source": [
    "# ploting the pps scores of all the columns\n",
    "\n",
    "plt.rcParams[\"figure.figsize\"] = (30,8)\n",
    "plt.bar(ppsscores.keys(),ppsscores.values())"
   ]
  },
  {
   "cell_type": "code",
   "execution_count": 13,
   "metadata": {},
   "outputs": [],
   "source": [
    "# label encoding the features \n",
    "\n",
    "df=cars[['MMV', 'Make', 'Model', 'Variant', 'Type', 'Fuel Type',\n",
    "       'Transmission', 'Color']].apply(LabelEncoder().fit_transform)"
   ]
  },
  {
   "cell_type": "code",
   "execution_count": 17,
   "metadata": {},
   "outputs": [],
   "source": [
    "# data preparation\n",
    "\n",
    "df = df.assign(Age=cars.Age,\n",
    "               Kms=cars.Kms,\n",
    "               No_of_owner=cars['No of Owner'],\n",
    "               Health_score=cars['Heath score'],\n",
    "               price_score=cars['price score'],\n",
    "               On_road_price=cars['on road price'],\n",
    "               Current_price=cars['Current Price'],\n",
    "               Dep=cars.Dep)"
   ]
  },
  {
   "cell_type": "code",
   "execution_count": 70,
   "metadata": {},
   "outputs": [
    {
     "data": {
      "text/html": [
       "<div>\n",
       "<style scoped>\n",
       "    .dataframe tbody tr th:only-of-type {\n",
       "        vertical-align: middle;\n",
       "    }\n",
       "\n",
       "    .dataframe tbody tr th {\n",
       "        vertical-align: top;\n",
       "    }\n",
       "\n",
       "    .dataframe thead th {\n",
       "        text-align: right;\n",
       "    }\n",
       "</style>\n",
       "<table border=\"1\" class=\"dataframe\">\n",
       "  <thead>\n",
       "    <tr style=\"text-align: right;\">\n",
       "      <th></th>\n",
       "      <th>MMV</th>\n",
       "      <th>Make</th>\n",
       "      <th>Model</th>\n",
       "      <th>Variant</th>\n",
       "      <th>Type</th>\n",
       "      <th>Fuel Type</th>\n",
       "      <th>Transmission</th>\n",
       "      <th>Color</th>\n",
       "      <th>Age</th>\n",
       "      <th>Kms</th>\n",
       "      <th>No_of_owner</th>\n",
       "      <th>Health_score</th>\n",
       "      <th>price_score</th>\n",
       "      <th>On_road_price</th>\n",
       "      <th>Current_price</th>\n",
       "      <th>Dep</th>\n",
       "    </tr>\n",
       "  </thead>\n",
       "  <tbody>\n",
       "    <tr>\n",
       "      <th>0</th>\n",
       "      <td>191</td>\n",
       "      <td>1</td>\n",
       "      <td>35</td>\n",
       "      <td>345</td>\n",
       "      <td>1</td>\n",
       "      <td>3</td>\n",
       "      <td>2</td>\n",
       "      <td>31</td>\n",
       "      <td>3</td>\n",
       "      <td>12000.0</td>\n",
       "      <td>1</td>\n",
       "      <td>8.5</td>\n",
       "      <td>8.8</td>\n",
       "      <td>537850</td>\n",
       "      <td>338352</td>\n",
       "      <td>37.1</td>\n",
       "    </tr>\n",
       "    <tr>\n",
       "      <th>1</th>\n",
       "      <td>210</td>\n",
       "      <td>1</td>\n",
       "      <td>36</td>\n",
       "      <td>303</td>\n",
       "      <td>1</td>\n",
       "      <td>3</td>\n",
       "      <td>2</td>\n",
       "      <td>0</td>\n",
       "      <td>9</td>\n",
       "      <td>68000.0</td>\n",
       "      <td>1</td>\n",
       "      <td>5.0</td>\n",
       "      <td>7.3</td>\n",
       "      <td>613863</td>\n",
       "      <td>189200</td>\n",
       "      <td>69.2</td>\n",
       "    </tr>\n",
       "    <tr>\n",
       "      <th>2</th>\n",
       "      <td>216</td>\n",
       "      <td>1</td>\n",
       "      <td>36</td>\n",
       "      <td>345</td>\n",
       "      <td>1</td>\n",
       "      <td>3</td>\n",
       "      <td>2</td>\n",
       "      <td>31</td>\n",
       "      <td>8</td>\n",
       "      <td>31143.0</td>\n",
       "      <td>1</td>\n",
       "      <td>6.2</td>\n",
       "      <td>4.6</td>\n",
       "      <td>678359</td>\n",
       "      <td>347568</td>\n",
       "      <td>48.8</td>\n",
       "    </tr>\n",
       "    <tr>\n",
       "      <th>3</th>\n",
       "      <td>223</td>\n",
       "      <td>1</td>\n",
       "      <td>44</td>\n",
       "      <td>59</td>\n",
       "      <td>4</td>\n",
       "      <td>1</td>\n",
       "      <td>1</td>\n",
       "      <td>24</td>\n",
       "      <td>2</td>\n",
       "      <td>6000.0</td>\n",
       "      <td>1</td>\n",
       "      <td>8.5</td>\n",
       "      <td>7.9</td>\n",
       "      <td>2228480</td>\n",
       "      <td>1629250</td>\n",
       "      <td>26.9</td>\n",
       "    </tr>\n",
       "    <tr>\n",
       "      <th>4</th>\n",
       "      <td>233</td>\n",
       "      <td>1</td>\n",
       "      <td>51</td>\n",
       "      <td>440</td>\n",
       "      <td>1</td>\n",
       "      <td>3</td>\n",
       "      <td>2</td>\n",
       "      <td>10</td>\n",
       "      <td>11</td>\n",
       "      <td>100000.0</td>\n",
       "      <td>2</td>\n",
       "      <td>4.3</td>\n",
       "      <td>9.9</td>\n",
       "      <td>453719</td>\n",
       "      <td>86240</td>\n",
       "      <td>81.0</td>\n",
       "    </tr>\n",
       "  </tbody>\n",
       "</table>\n",
       "</div>"
      ],
      "text/plain": [
       "   MMV  Make  Model  Variant  Type  Fuel Type  Transmission  Color  Age  \\\n",
       "0  191     1     35      345     1          3             2     31    3   \n",
       "1  210     1     36      303     1          3             2      0    9   \n",
       "2  216     1     36      345     1          3             2     31    8   \n",
       "3  223     1     44       59     4          1             1     24    2   \n",
       "4  233     1     51      440     1          3             2     10   11   \n",
       "\n",
       "        Kms  No_of_owner  Health_score  price_score  On_road_price  \\\n",
       "0   12000.0            1           8.5          8.8         537850   \n",
       "1   68000.0            1           5.0          7.3         613863   \n",
       "2   31143.0            1           6.2          4.6         678359   \n",
       "3    6000.0            1           8.5          7.9        2228480   \n",
       "4  100000.0            2           4.3          9.9         453719   \n",
       "\n",
       "   Current_price   Dep  \n",
       "0         338352  37.1  \n",
       "1         189200  69.2  \n",
       "2         347568  48.8  \n",
       "3        1629250  26.9  \n",
       "4          86240  81.0  "
      ]
     },
     "execution_count": 70,
     "metadata": {},
     "output_type": "execute_result"
    }
   ],
   "source": [
    "df.head()"
   ]
  },
  {
   "cell_type": "code",
   "execution_count": null,
   "metadata": {},
   "outputs": [],
   "source": [
    "df['Kms'] = df.Kms.str.replace(',', '').astype(float)"
   ]
  },
  {
   "cell_type": "code",
   "execution_count": 64,
   "metadata": {},
   "outputs": [],
   "source": [
    "X=df.drop(['Dep'],axis=1)\n",
    "Y=df.Dep"
   ]
  },
  {
   "cell_type": "code",
   "execution_count": 67,
   "metadata": {},
   "outputs": [],
   "source": [
    "# splitting the train and test data\n",
    "\n",
    "X_train, X_test, y_train, y_test=train_test_split(X,Y,test_size=0.3,random_state=42)"
   ]
  },
  {
   "cell_type": "code",
   "execution_count": 69,
   "metadata": {},
   "outputs": [
    {
     "data": {
      "text/plain": [
       "RandomForestRegressor(n_jobs=-1, random_state=0)"
      ]
     },
     "execution_count": 69,
     "metadata": {},
     "output_type": "execute_result"
    }
   ],
   "source": [
    "# training the dataset\n",
    "\n",
    "reg=RandomForestRegressor(n_estimators=100, random_state=0, n_jobs=-1)\n",
    "reg.fit(X_train,y_train)"
   ]
  },
  {
   "cell_type": "code",
   "execution_count": 71,
   "metadata": {},
   "outputs": [],
   "source": [
    "# predicting the data\n",
    "\n",
    "y_pred = reg.predict(X_test)"
   ]
  },
  {
   "cell_type": "code",
   "execution_count": 72,
   "metadata": {},
   "outputs": [
    {
     "name": "stdout",
     "output_type": "stream",
     "text": [
      "Root Mean Squared Error: 4.194247916629056\n"
     ]
    }
   ],
   "source": [
    "# Evaluating the model accuracy\n",
    "\n",
    "from sklearn import metrics\n",
    "print('Root Mean Squared Error:', np.sqrt(metrics.mean_squared_error(y_test, y_pred)))"
   ]
  },
  {
   "cell_type": "code",
   "execution_count": 73,
   "metadata": {},
   "outputs": [
    {
     "name": "stdout",
     "output_type": "stream",
     "text": [
      "Mean Absolute Error:  2.7949852813852805\n"
     ]
    }
   ],
   "source": [
    "print('Mean Absolute Error: ',metrics.mean_absolute_error(y_test, y_pred))"
   ]
  },
  {
   "cell_type": "code",
   "execution_count": 81,
   "metadata": {},
   "outputs": [
    {
     "name": "stdout",
     "output_type": "stream",
     "text": [
      "Training Accuracy: 0.9914507532980611\n"
     ]
    }
   ],
   "source": [
    "print('Training Accuracy:', reg.score(X_train,y_train))"
   ]
  },
  {
   "cell_type": "code",
   "execution_count": 82,
   "metadata": {},
   "outputs": [
    {
     "name": "stdout",
     "output_type": "stream",
     "text": [
      "Training Accuracy: 0.9410188927497962\n"
     ]
    }
   ],
   "source": [
    "print('Training Accuracy:',reg.score(X_test,y_test))"
   ]
  },
  {
   "cell_type": "code",
   "execution_count": null,
   "metadata": {},
   "outputs": [],
   "source": []
  }
 ],
 "metadata": {
  "kernelspec": {
   "display_name": "Python 3",
   "language": "python",
   "name": "python3"
  },
  "language_info": {
   "codemirror_mode": {
    "name": "ipython",
    "version": 3
   },
   "file_extension": ".py",
   "mimetype": "text/x-python",
   "name": "python",
   "nbconvert_exporter": "python",
   "pygments_lexer": "ipython3",
   "version": "3.8.3"
  }
 },
 "nbformat": 4,
 "nbformat_minor": 4
}
